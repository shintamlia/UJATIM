{
 "cells": [
  {
   "cell_type": "markdown",
   "metadata": {},
   "source": [
    "# 1 - Libraries"
   ]
  },
  {
   "cell_type": "code",
   "execution_count": 1,
   "metadata": {},
   "outputs": [],
   "source": [
    "# Libary untuk proses Data\n",
    "import numpy as np\n",
    "import pandas as pd\n",
    "import pickle\n",
    "\n",
    "# Library untuk Visualisasi\n",
    "import matplotlib.pyplot as plt\n",
    "import seaborn as sns\n",
    "from statsmodels.graphics.tsaplots import plot_acf, plot_pacf\n",
    "import pylab\n",
    "from statsmodels.tsa.seasonal import seasonal_decompose\n",
    "\n",
    "# Library Model\n",
    "from statsmodels.tsa.stattools import adfuller\n",
    "from statsmodels.tsa.arima.model import ARIMA\n",
    "from statsmodels.tsa.statespace.sarimax import SARIMAX\n",
    "\n",
    "# Library Metriks\n",
    "from sklearn.metrics import mean_squared_error, mean_absolute_error\n",
    "\n",
    "import warnings\n",
    "warnings.filterwarnings('ignore')"
   ]
  },
  {
   "cell_type": "markdown",
   "metadata": {},
   "source": [
    "# 2 - Data Loading"
   ]
  },
  {
   "cell_type": "code",
   "execution_count": 2,
   "metadata": {},
   "outputs": [
    {
     "data": {
      "text/html": [
       "<div>\n",
       "<style scoped>\n",
       "    .dataframe tbody tr th:only-of-type {\n",
       "        vertical-align: middle;\n",
       "    }\n",
       "\n",
       "    .dataframe tbody tr th {\n",
       "        vertical-align: top;\n",
       "    }\n",
       "\n",
       "    .dataframe thead th {\n",
       "        text-align: right;\n",
       "    }\n",
       "</style>\n",
       "<table border=\"1\" class=\"dataframe\">\n",
       "  <thead>\n",
       "    <tr style=\"text-align: right;\">\n",
       "      <th></th>\n",
       "      <th>date</th>\n",
       "      <th>size_30</th>\n",
       "      <th>size_40</th>\n",
       "      <th>size_50</th>\n",
       "      <th>size_60</th>\n",
       "      <th>size_70</th>\n",
       "      <th>size_80</th>\n",
       "      <th>size_100</th>\n",
       "    </tr>\n",
       "  </thead>\n",
       "  <tbody>\n",
       "    <tr>\n",
       "      <th>0</th>\n",
       "      <td>2018-09-16</td>\n",
       "      <td>101000.0</td>\n",
       "      <td>90000.000000</td>\n",
       "      <td>81000.000000</td>\n",
       "      <td>77000.000000</td>\n",
       "      <td>74000.000000</td>\n",
       "      <td>71000.000000</td>\n",
       "      <td>65000.000000</td>\n",
       "    </tr>\n",
       "    <tr>\n",
       "      <th>1</th>\n",
       "      <td>2018-09-23</td>\n",
       "      <td>99800.0</td>\n",
       "      <td>88666.666667</td>\n",
       "      <td>80333.333333</td>\n",
       "      <td>76333.333333</td>\n",
       "      <td>73333.333333</td>\n",
       "      <td>70333.333333</td>\n",
       "      <td>64333.333333</td>\n",
       "    </tr>\n",
       "    <tr>\n",
       "      <th>2</th>\n",
       "      <td>2018-09-30</td>\n",
       "      <td>98600.0</td>\n",
       "      <td>87333.333333</td>\n",
       "      <td>79666.666667</td>\n",
       "      <td>75666.666667</td>\n",
       "      <td>72666.666667</td>\n",
       "      <td>69666.666667</td>\n",
       "      <td>63666.666667</td>\n",
       "    </tr>\n",
       "    <tr>\n",
       "      <th>3</th>\n",
       "      <td>2018-10-07</td>\n",
       "      <td>97400.0</td>\n",
       "      <td>86000.000000</td>\n",
       "      <td>79000.000000</td>\n",
       "      <td>75000.000000</td>\n",
       "      <td>72000.000000</td>\n",
       "      <td>69000.000000</td>\n",
       "      <td>63000.000000</td>\n",
       "    </tr>\n",
       "    <tr>\n",
       "      <th>4</th>\n",
       "      <td>2018-10-14</td>\n",
       "      <td>96200.0</td>\n",
       "      <td>84666.666667</td>\n",
       "      <td>78333.333333</td>\n",
       "      <td>74333.333333</td>\n",
       "      <td>71333.333333</td>\n",
       "      <td>68333.333333</td>\n",
       "      <td>62333.333333</td>\n",
       "    </tr>\n",
       "    <tr>\n",
       "      <th>...</th>\n",
       "      <td>...</td>\n",
       "      <td>...</td>\n",
       "      <td>...</td>\n",
       "      <td>...</td>\n",
       "      <td>...</td>\n",
       "      <td>...</td>\n",
       "      <td>...</td>\n",
       "      <td>...</td>\n",
       "    </tr>\n",
       "    <tr>\n",
       "      <th>310</th>\n",
       "      <td>2024-08-25</td>\n",
       "      <td>80000.0</td>\n",
       "      <td>75000.000000</td>\n",
       "      <td>68000.000000</td>\n",
       "      <td>65000.000000</td>\n",
       "      <td>62000.000000</td>\n",
       "      <td>60000.000000</td>\n",
       "      <td>34683.666667</td>\n",
       "    </tr>\n",
       "    <tr>\n",
       "      <th>311</th>\n",
       "      <td>2024-09-01</td>\n",
       "      <td>82500.0</td>\n",
       "      <td>76000.000000</td>\n",
       "      <td>68500.000000</td>\n",
       "      <td>65500.000000</td>\n",
       "      <td>61500.000000</td>\n",
       "      <td>59000.000000</td>\n",
       "      <td>53500.000000</td>\n",
       "    </tr>\n",
       "    <tr>\n",
       "      <th>312</th>\n",
       "      <td>2024-09-08</td>\n",
       "      <td>80000.0</td>\n",
       "      <td>74000.000000</td>\n",
       "      <td>68000.000000</td>\n",
       "      <td>66000.000000</td>\n",
       "      <td>62000.000000</td>\n",
       "      <td>60000.000000</td>\n",
       "      <td>54000.000000</td>\n",
       "    </tr>\n",
       "    <tr>\n",
       "      <th>313</th>\n",
       "      <td>2024-09-15</td>\n",
       "      <td>79000.0</td>\n",
       "      <td>74000.000000</td>\n",
       "      <td>68000.000000</td>\n",
       "      <td>66000.000000</td>\n",
       "      <td>62000.000000</td>\n",
       "      <td>60000.000000</td>\n",
       "      <td>54000.000000</td>\n",
       "    </tr>\n",
       "    <tr>\n",
       "      <th>314</th>\n",
       "      <td>2024-09-22</td>\n",
       "      <td>79000.0</td>\n",
       "      <td>74000.000000</td>\n",
       "      <td>68000.000000</td>\n",
       "      <td>66000.000000</td>\n",
       "      <td>62000.000000</td>\n",
       "      <td>60000.000000</td>\n",
       "      <td>54000.000000</td>\n",
       "    </tr>\n",
       "  </tbody>\n",
       "</table>\n",
       "<p>315 rows × 8 columns</p>\n",
       "</div>"
      ],
      "text/plain": [
       "           date   size_30       size_40       size_50       size_60  \\\n",
       "0    2018-09-16  101000.0  90000.000000  81000.000000  77000.000000   \n",
       "1    2018-09-23   99800.0  88666.666667  80333.333333  76333.333333   \n",
       "2    2018-09-30   98600.0  87333.333333  79666.666667  75666.666667   \n",
       "3    2018-10-07   97400.0  86000.000000  79000.000000  75000.000000   \n",
       "4    2018-10-14   96200.0  84666.666667  78333.333333  74333.333333   \n",
       "..          ...       ...           ...           ...           ...   \n",
       "310  2024-08-25   80000.0  75000.000000  68000.000000  65000.000000   \n",
       "311  2024-09-01   82500.0  76000.000000  68500.000000  65500.000000   \n",
       "312  2024-09-08   80000.0  74000.000000  68000.000000  66000.000000   \n",
       "313  2024-09-15   79000.0  74000.000000  68000.000000  66000.000000   \n",
       "314  2024-09-22   79000.0  74000.000000  68000.000000  66000.000000   \n",
       "\n",
       "          size_70       size_80      size_100  \n",
       "0    74000.000000  71000.000000  65000.000000  \n",
       "1    73333.333333  70333.333333  64333.333333  \n",
       "2    72666.666667  69666.666667  63666.666667  \n",
       "3    72000.000000  69000.000000  63000.000000  \n",
       "4    71333.333333  68333.333333  62333.333333  \n",
       "..            ...           ...           ...  \n",
       "310  62000.000000  60000.000000  34683.666667  \n",
       "311  61500.000000  59000.000000  53500.000000  \n",
       "312  62000.000000  60000.000000  54000.000000  \n",
       "313  62000.000000  60000.000000  54000.000000  \n",
       "314  62000.000000  60000.000000  54000.000000  \n",
       "\n",
       "[315 rows x 8 columns]"
      ]
     },
     "execution_count": 2,
     "metadata": {},
     "output_type": "execute_result"
    }
   ],
   "source": [
    "df_ori = pd.read_csv(\"shrimp_prices_week.csv\")\n",
    "df_ori"
   ]
  },
  {
   "cell_type": "markdown",
   "metadata": {},
   "source": [
    "Load dataset hasil scrapping dan cleaning"
   ]
  },
  {
   "cell_type": "code",
   "execution_count": 3,
   "metadata": {},
   "outputs": [
    {
     "data": {
      "text/html": [
       "<div>\n",
       "<style scoped>\n",
       "    .dataframe tbody tr th:only-of-type {\n",
       "        vertical-align: middle;\n",
       "    }\n",
       "\n",
       "    .dataframe tbody tr th {\n",
       "        vertical-align: top;\n",
       "    }\n",
       "\n",
       "    .dataframe thead th {\n",
       "        text-align: right;\n",
       "    }\n",
       "</style>\n",
       "<table border=\"1\" class=\"dataframe\">\n",
       "  <thead>\n",
       "    <tr style=\"text-align: right;\">\n",
       "      <th></th>\n",
       "      <th>date</th>\n",
       "      <th>size_80</th>\n",
       "    </tr>\n",
       "  </thead>\n",
       "  <tbody>\n",
       "    <tr>\n",
       "      <th>0</th>\n",
       "      <td>2018-09-16</td>\n",
       "      <td>71000.000000</td>\n",
       "    </tr>\n",
       "    <tr>\n",
       "      <th>1</th>\n",
       "      <td>2018-09-23</td>\n",
       "      <td>70333.333333</td>\n",
       "    </tr>\n",
       "    <tr>\n",
       "      <th>2</th>\n",
       "      <td>2018-09-30</td>\n",
       "      <td>69666.666667</td>\n",
       "    </tr>\n",
       "    <tr>\n",
       "      <th>3</th>\n",
       "      <td>2018-10-07</td>\n",
       "      <td>69000.000000</td>\n",
       "    </tr>\n",
       "    <tr>\n",
       "      <th>4</th>\n",
       "      <td>2018-10-14</td>\n",
       "      <td>68333.333333</td>\n",
       "    </tr>\n",
       "    <tr>\n",
       "      <th>...</th>\n",
       "      <td>...</td>\n",
       "      <td>...</td>\n",
       "    </tr>\n",
       "    <tr>\n",
       "      <th>310</th>\n",
       "      <td>2024-08-25</td>\n",
       "      <td>60000.000000</td>\n",
       "    </tr>\n",
       "    <tr>\n",
       "      <th>311</th>\n",
       "      <td>2024-09-01</td>\n",
       "      <td>59000.000000</td>\n",
       "    </tr>\n",
       "    <tr>\n",
       "      <th>312</th>\n",
       "      <td>2024-09-08</td>\n",
       "      <td>60000.000000</td>\n",
       "    </tr>\n",
       "    <tr>\n",
       "      <th>313</th>\n",
       "      <td>2024-09-15</td>\n",
       "      <td>60000.000000</td>\n",
       "    </tr>\n",
       "    <tr>\n",
       "      <th>314</th>\n",
       "      <td>2024-09-22</td>\n",
       "      <td>60000.000000</td>\n",
       "    </tr>\n",
       "  </tbody>\n",
       "</table>\n",
       "<p>315 rows × 2 columns</p>\n",
       "</div>"
      ],
      "text/plain": [
       "           date       size_80\n",
       "0    2018-09-16  71000.000000\n",
       "1    2018-09-23  70333.333333\n",
       "2    2018-09-30  69666.666667\n",
       "3    2018-10-07  69000.000000\n",
       "4    2018-10-14  68333.333333\n",
       "..          ...           ...\n",
       "310  2024-08-25  60000.000000\n",
       "311  2024-09-01  59000.000000\n",
       "312  2024-09-08  60000.000000\n",
       "313  2024-09-15  60000.000000\n",
       "314  2024-09-22  60000.000000\n",
       "\n",
       "[315 rows x 2 columns]"
      ]
     },
     "execution_count": 3,
     "metadata": {},
     "output_type": "execute_result"
    }
   ],
   "source": [
    "df_80 = df_ori[['date','size_80']]\n",
    "df_80"
   ]
  },
  {
   "cell_type": "markdown",
   "metadata": {},
   "source": [
    "Seleksi kolom yang akan dijadikan dataset training"
   ]
  },
  {
   "cell_type": "code",
   "execution_count": 4,
   "metadata": {},
   "outputs": [
    {
     "data": {
      "text/html": [
       "<div>\n",
       "<style scoped>\n",
       "    .dataframe tbody tr th:only-of-type {\n",
       "        vertical-align: middle;\n",
       "    }\n",
       "\n",
       "    .dataframe tbody tr th {\n",
       "        vertical-align: top;\n",
       "    }\n",
       "\n",
       "    .dataframe thead th {\n",
       "        text-align: right;\n",
       "    }\n",
       "</style>\n",
       "<table border=\"1\" class=\"dataframe\">\n",
       "  <thead>\n",
       "    <tr style=\"text-align: right;\">\n",
       "      <th></th>\n",
       "      <th>size_80</th>\n",
       "    </tr>\n",
       "    <tr>\n",
       "      <th>date</th>\n",
       "      <th></th>\n",
       "    </tr>\n",
       "  </thead>\n",
       "  <tbody>\n",
       "    <tr>\n",
       "      <th>2018-09-16</th>\n",
       "      <td>71000.000000</td>\n",
       "    </tr>\n",
       "    <tr>\n",
       "      <th>2018-09-23</th>\n",
       "      <td>70333.333333</td>\n",
       "    </tr>\n",
       "    <tr>\n",
       "      <th>2018-09-30</th>\n",
       "      <td>69666.666667</td>\n",
       "    </tr>\n",
       "    <tr>\n",
       "      <th>2018-10-07</th>\n",
       "      <td>69000.000000</td>\n",
       "    </tr>\n",
       "    <tr>\n",
       "      <th>2018-10-14</th>\n",
       "      <td>68333.333333</td>\n",
       "    </tr>\n",
       "  </tbody>\n",
       "</table>\n",
       "</div>"
      ],
      "text/plain": [
       "                 size_80\n",
       "date                    \n",
       "2018-09-16  71000.000000\n",
       "2018-09-23  70333.333333\n",
       "2018-09-30  69666.666667\n",
       "2018-10-07  69000.000000\n",
       "2018-10-14  68333.333333"
      ]
     },
     "execution_count": 4,
     "metadata": {},
     "output_type": "execute_result"
    }
   ],
   "source": [
    "df_80['date'] = pd.to_datetime(df_80['date'])\n",
    "df_80.set_index('date',inplace=True)\n",
    "df_80.head()"
   ]
  },
  {
   "cell_type": "markdown",
   "metadata": {},
   "source": [
    "Mengubah `date` menjadi indeks"
   ]
  },
  {
   "cell_type": "markdown",
   "metadata": {},
   "source": [
    "# 3 - EDA Modeling"
   ]
  },
  {
   "cell_type": "code",
   "execution_count": 7,
   "metadata": {},
   "outputs": [
    {
     "data": {
      "image/png": "[encoded data removed]",
      "text/plain": [
       "<Figure size 2000x500 with 1 Axes>"
      ]
     },
     "metadata": {},
     "output_type": "display_data"
    }
   ],
   "source": [
    "# Visualisasi data\n",
    "fig,ax = plt.subplots(nrows = 1, ncols = 1,figsize = (20,5))\n",
    "plt.subplot(1,1,1)\n",
    "sns.lineplot(x = df_80.index ,y = 'size_80',data = df_80)\n",
    "plt.title('Price vs Week');"
   ]
  },
  {
   "cell_type": "markdown",
   "metadata": {},
   "source": [
    "Plot visual dari keseluruhan data harga udang size 80"
   ]
  },
  {
   "cell_type": "code",
   "execution_count": 8,
   "metadata": {},
   "outputs": [
    {
     "data": {
      "image/png": "[encoded data removed]",
      "text/plain": [
       "<Figure size 1400x900 with 4 Axes>"
      ]
     },
     "metadata": {},
     "output_type": "display_data"
    }
   ],
   "source": [
    "# Dekomposisi timeseries\n",
    "\n",
    "pylab.rcParams['figure.figsize'] = (14, 9)\n",
    "res = seasonal_decompose(df_80['size_80'], model='multiplicatif')\n",
    "ax=res.plot()\n",
    "plt.show()"
   ]
  },
  {
   "cell_type": "markdown",
   "metadata": {},
   "source": [
    "Data memiliki pola seasonal tahunan dengan trend terakhir sedang terdapat kenaikan\n"
   ]
  },
  {
   "cell_type": "code",
   "execution_count": 6,
   "metadata": {},
   "outputs": [],
   "source": [
    "# fungsi untuk memeriksa stationarity data\n",
    "\n",
    "def check_stationarity(series):\n",
    "    # Copied from https://machinelearningmastery.com/time-series-data-stationary-python/\n",
    "\n",
    "    result = adfuller(series.values)\n",
    "\n",
    "    print('ADF Statistic: %f' % result[0])\n",
    "    print('p-value: %f' % result[1])\n",
    "    print('Critical Values:')\n",
    "    for key, value in result[4].items():\n",
    "        print('\\t%s: %.3f' % (key, value))\n",
    "\n",
    "    if (result[1] <= 0.05) & (result[4]['5%'] > result[0]):\n",
    "        print(\"\\u001b[32mStationary\\u001b[0m\")\n",
    "    else:\n",
    "        print(\"\\x1b[31mNon-stationary\\x1b[0m\")"
   ]
  },
  {
   "cell_type": "markdown",
   "metadata": {},
   "source": [
    "Fungsi untuk memeriksa Stationarity"
   ]
  },
  {
   "cell_type": "code",
   "execution_count": 7,
   "metadata": {},
   "outputs": [
    {
     "name": "stdout",
     "output_type": "stream",
     "text": [
      "ADF Statistic: -4.618433\n",
      "p-value: 0.000119\n",
      "Critical Values:\n",
      "\t1%: -3.451\n",
      "\t5%: -2.871\n",
      "\t10%: -2.572\n",
      "\u001b[32mStationary\u001b[0m\n"
     ]
    }
   ],
   "source": [
    "# Proses check stationarity\n",
    "check_stationarity(df_80['size_80'])"
   ]
  },
  {
   "cell_type": "markdown",
   "metadata": {},
   "source": [
    "Check stationarity menghasilkan statement stationary yang artinya bisa parameter turunan (D) = 0"
   ]
  },
  {
   "cell_type": "code",
   "execution_count": 8,
   "metadata": {},
   "outputs": [
    {
     "data": {
      "image/png": "[encoded data removed]",
      "text/plain": [
       "<Figure size 640x480 with 1 Axes>"
      ]
     },
     "metadata": {},
     "output_type": "display_data"
    },
    {
     "data": {
      "image/png": "[encoded data removed]",
      "text/plain": [
       "<Figure size 640x480 with 1 Axes>"
      ]
     },
     "metadata": {},
     "output_type": "display_data"
    }
   ],
   "source": [
    "# Visualisasi Plot ACF & PACF\n",
    "\n",
    "plot_acf(df_80['size_80'])\n",
    "plot_pacf(df_80['size_80'])\n",
    "plt.show()"
   ]
  },
  {
   "cell_type": "markdown",
   "metadata": {},
   "source": [
    "Berdasarkan plot Autocorrelation (Q) dan Partial Autocorrelation (P) didapat nilai Q = 8 dan P = 3. Hal ini berarti model akan menggunakan parameter P = 3, D = 0, Q = 8"
   ]
  },
  {
   "cell_type": "code",
   "execution_count": 13,
   "metadata": {},
   "outputs": [],
   "source": [
    "# Membuat fungsi untuk mencari best model berdasarkan ARIMA\n",
    "\n",
    "def find_best_model(data, num_p, num_d, num_q):\n",
    "  df = pd.DataFrame() #We make a pandas dataframe to ease our work, you can use any way that makes you comfortable and work easly\n",
    "  pdq = [[],[],[]] #This list for storing the combinations of p and q\n",
    "  aic = [] # This list for storing aic value\n",
    "  for p in range(num_p + 1): #plus one is to make the range up to num_p since python range only ranging from 0 to N-1\n",
    "    for d in range(num_d + 1):\n",
    "      for q in range(num_q + 1):\n",
    "        # #if p!=0 and q!=0: #this logic will avoid (0,0) value which is not correct\n",
    "        try: #Using exception to avoid the error while training the model with certain p and q value\n",
    "          model = ARIMA(data, order=(p, d, q))\n",
    "          result = model.fit()\n",
    "          pdq[0].append(p)\n",
    "          pdq[1].append(d)\n",
    "          pdq[2].append(q)\n",
    "          aic.append(result.aic)\n",
    "        except:\n",
    "          pass #If there is an error caused by the calculation, it will be skipped to the next iteration\n",
    "\n",
    "  df['p'] = pdq[0]\n",
    "  df['d'] = pdq[1]\n",
    "  df['q'] = pdq[2]\n",
    "  df['AIC'] = aic\n",
    "\n",
    "  df.sort_values('AIC', inplace=True)\n",
    "\n",
    "  return df.p.iloc[0], df.d.iloc[0], df.q.iloc[0], df.AIC.iloc[0], df"
   ]
  },
  {
   "cell_type": "markdown",
   "metadata": {},
   "source": [
    "Fungsi untuk mencari nilai PDQ optimal"
   ]
  },
  {
   "cell_type": "code",
   "execution_count": 9,
   "metadata": {},
   "outputs": [
    {
     "name": "stdout",
     "output_type": "stream",
     "text": [
      "Train Size : (250, 1)\n",
      "Test Size : (65, 1)\n"
     ]
    }
   ],
   "source": [
    "train = df_80[:250]\n",
    "test = df_80[250:]\n",
    "print(f\"Train Size : {train.shape}\")\n",
    "print(f\"Test Size : {test.shape}\")"
   ]
  },
  {
   "cell_type": "markdown",
   "metadata": {},
   "source": [
    "Split Train set sebanyak 250 data, dan Test set sebanyak 65 data"
   ]
  },
  {
   "cell_type": "code",
   "execution_count": 17,
   "metadata": {},
   "outputs": [],
   "source": [
    "# Proses mencari best model\n",
    "find_best_model(train['size_80'],10,10,10)"
   ]
  },
  {
   "cell_type": "markdown",
   "metadata": {},
   "source": [
    "Hasil Pencarian model didapat PDQ 5,9,1 dengan AIC 14.0"
   ]
  },
  {
   "cell_type": "markdown",
   "metadata": {},
   "source": [
    "# 4 - Model Training"
   ]
  },
  {
   "cell_type": "markdown",
   "metadata": {},
   "source": [
    "## 4.1 - ARIMA"
   ]
  },
  {
   "cell_type": "markdown",
   "metadata": {},
   "source": [
    "### 4.1.1 - ARIMA Visual Plot"
   ]
  },
  {
   "cell_type": "code",
   "execution_count": 21,
   "metadata": {},
   "outputs": [
    {
     "name": "stdout",
     "output_type": "stream",
     "text": [
      "AIC ARIMA Visual : 4517.522827728404\n"
     ]
    }
   ],
   "source": [
    "# Menggunakan parameter PDQ dari plot visual\n",
    "\n",
    "model_arima_visual = ARIMA(train['size_80'], order=(3,0,8))\n",
    "result_model_arima_visual = model_arima_visual.fit()\n",
    "\n",
    "print(\"AIC ARIMA Visual :\",result_model_arima_visual.aic)"
   ]
  },
  {
   "cell_type": "markdown",
   "metadata": {},
   "source": [
    "Hasil training ARIMA dengan PDQ 3,0,8 didapat AIC sebesar 4517.52"
   ]
  },
  {
   "cell_type": "markdown",
   "metadata": {},
   "source": [
    "### 4.1.2 - ARIMA Find Best Model"
   ]
  },
  {
   "cell_type": "code",
   "execution_count": 34,
   "metadata": {},
   "outputs": [
    {
     "name": "stdout",
     "output_type": "stream",
     "text": [
      "AIC ARIMA Fungsi Find : 14.0\n"
     ]
    }
   ],
   "source": [
    "# Menggunakan parameter PDQ dari fungsi find best model\n",
    "model_arima_find = ARIMA(train['size_80'], order=(5,9,1))\n",
    "result_model_arima_find = model_arima_find.fit()\n",
    "\n",
    "print(\"AIC ARIMA Fungsi Find :\",result_model_arima_find.aic)"
   ]
  },
  {
   "cell_type": "markdown",
   "metadata": {},
   "source": [
    "Proses Training dengan PDQ 5,9,1 menghasilkan AIC sebesar 14.0"
   ]
  },
  {
   "cell_type": "markdown",
   "metadata": {},
   "source": [
    "## 4.2 - SARIMA"
   ]
  },
  {
   "cell_type": "markdown",
   "metadata": {},
   "source": [
    "### 4.2.1 - SARIMA Visual Plot"
   ]
  },
  {
   "cell_type": "code",
   "execution_count": 10,
   "metadata": {},
   "outputs": [
    {
     "data": {
      "text/html": [
       "<table class=\"simpletable\">\n",
       "<caption>SARIMAX Results</caption>\n",
       "<tr>\n",
       "  <th>Dep. Variable:</th>               <td>size_80</td>            <th>  No. Observations:  </th>    <td>250</td>   \n",
       "</tr>\n",
       "<tr>\n",
       "  <th>Model:</th>           <td>SARIMAX(3, 0, 8)x(3, 0, 8, 52)</td> <th>  Log Likelihood     </th> <td>-2253.359</td>\n",
       "</tr>\n",
       "<tr>\n",
       "  <th>Date:</th>                   <td>Thu, 26 Sep 2024</td>        <th>  AIC                </th> <td>4552.717</td> \n",
       "</tr>\n",
       "<tr>\n",
       "  <th>Time:</th>                       <td>09:35:20</td>            <th>  BIC                </th> <td>4633.711</td> \n",
       "</tr>\n",
       "<tr>\n",
       "  <th>Sample:</th>                    <td>09-16-2018</td>           <th>  HQIC               </th> <td>4585.315</td> \n",
       "</tr>\n",
       "<tr>\n",
       "  <th></th>                          <td>- 06-25-2023</td>          <th>                     </th>     <td> </td>    \n",
       "</tr>\n",
       "<tr>\n",
       "  <th>Covariance Type:</th>               <td>opg</td>              <th>                     </th>     <td> </td>    \n",
       "</tr>\n",
       "</table>\n",
       "<table class=\"simpletable\">\n",
       "<tr>\n",
       "      <td></td>         <th>coef</th>     <th>std err</th>      <th>z</th>      <th>P>|z|</th>  <th>[0.025</th>    <th>0.975]</th>  \n",
       "</tr>\n",
       "<tr>\n",
       "  <th>ar.L1</th>     <td>   -0.4658</td> <td>    0.213</td> <td>   -2.189</td> <td> 0.029</td> <td>   -0.883</td> <td>   -0.049</td>\n",
       "</tr>\n",
       "<tr>\n",
       "  <th>ar.L2</th>     <td>    0.5814</td> <td>    0.136</td> <td>    4.277</td> <td> 0.000</td> <td>    0.315</td> <td>    0.848</td>\n",
       "</tr>\n",
       "<tr>\n",
       "  <th>ar.L3</th>     <td>    0.8829</td> <td>    0.209</td> <td>    4.221</td> <td> 0.000</td> <td>    0.473</td> <td>    1.293</td>\n",
       "</tr>\n",
       "<tr>\n",
       "  <th>ma.L1</th>     <td>    1.5080</td> <td>    0.212</td> <td>    7.123</td> <td> 0.000</td> <td>    1.093</td> <td>    1.923</td>\n",
       "</tr>\n",
       "<tr>\n",
       "  <th>ma.L2</th>     <td>    1.0902</td> <td>    0.259</td> <td>    4.211</td> <td> 0.000</td> <td>    0.583</td> <td>    1.598</td>\n",
       "</tr>\n",
       "<tr>\n",
       "  <th>ma.L3</th>     <td>    0.1971</td> <td>    0.159</td> <td>    1.237</td> <td> 0.216</td> <td>   -0.115</td> <td>    0.509</td>\n",
       "</tr>\n",
       "<tr>\n",
       "  <th>ma.L4</th>     <td>   -0.0473</td> <td>    0.161</td> <td>   -0.293</td> <td> 0.770</td> <td>   -0.363</td> <td>    0.269</td>\n",
       "</tr>\n",
       "<tr>\n",
       "  <th>ma.L5</th>     <td>   -0.2611</td> <td>    0.155</td> <td>   -1.686</td> <td> 0.092</td> <td>   -0.565</td> <td>    0.042</td>\n",
       "</tr>\n",
       "<tr>\n",
       "  <th>ma.L6</th>     <td>   -0.2353</td> <td>    0.163</td> <td>   -1.446</td> <td> 0.148</td> <td>   -0.554</td> <td>    0.084</td>\n",
       "</tr>\n",
       "<tr>\n",
       "  <th>ma.L7</th>     <td>   -0.0491</td> <td>    0.167</td> <td>   -0.294</td> <td> 0.769</td> <td>   -0.376</td> <td>    0.278</td>\n",
       "</tr>\n",
       "<tr>\n",
       "  <th>ma.L8</th>     <td>    0.0214</td> <td>    0.095</td> <td>    0.224</td> <td> 0.823</td> <td>   -0.165</td> <td>    0.208</td>\n",
       "</tr>\n",
       "<tr>\n",
       "  <th>ar.S.L52</th>  <td>    0.1303</td> <td>   17.861</td> <td>    0.007</td> <td> 0.994</td> <td>  -34.877</td> <td>   35.137</td>\n",
       "</tr>\n",
       "<tr>\n",
       "  <th>ar.S.L104</th> <td>    0.3525</td> <td>   43.976</td> <td>    0.008</td> <td> 0.994</td> <td>  -85.838</td> <td>   86.543</td>\n",
       "</tr>\n",
       "<tr>\n",
       "  <th>ar.S.L156</th> <td>    0.0469</td> <td>   13.010</td> <td>    0.004</td> <td> 0.997</td> <td>  -25.453</td> <td>   25.547</td>\n",
       "</tr>\n",
       "<tr>\n",
       "  <th>ma.S.L52</th>  <td>   -0.1053</td> <td>   19.133</td> <td>   -0.006</td> <td> 0.996</td> <td>  -37.604</td> <td>   37.394</td>\n",
       "</tr>\n",
       "<tr>\n",
       "  <th>ma.S.L104</th> <td>   -0.3064</td> <td>   44.448</td> <td>   -0.007</td> <td> 0.994</td> <td>  -87.422</td> <td>   86.809</td>\n",
       "</tr>\n",
       "<tr>\n",
       "  <th>ma.S.L156</th> <td>   -0.0757</td> <td>   13.665</td> <td>   -0.006</td> <td> 0.996</td> <td>  -26.859</td> <td>   26.707</td>\n",
       "</tr>\n",
       "<tr>\n",
       "  <th>ma.S.L208</th> <td>   -0.1781</td> <td>    3.957</td> <td>   -0.045</td> <td> 0.964</td> <td>   -7.934</td> <td>    7.577</td>\n",
       "</tr>\n",
       "<tr>\n",
       "  <th>ma.S.L260</th> <td>    0.0328</td> <td>   11.213</td> <td>    0.003</td> <td> 0.998</td> <td>  -21.944</td> <td>   22.010</td>\n",
       "</tr>\n",
       "<tr>\n",
       "  <th>ma.S.L312</th> <td>    0.0413</td> <td>   14.782</td> <td>    0.003</td> <td> 0.998</td> <td>  -28.930</td> <td>   29.013</td>\n",
       "</tr>\n",
       "<tr>\n",
       "  <th>ma.S.L364</th> <td>    0.0183</td> <td>   18.901</td> <td>    0.001</td> <td> 0.999</td> <td>  -37.026</td> <td>   37.063</td>\n",
       "</tr>\n",
       "<tr>\n",
       "  <th>ma.S.L416</th> <td>    0.0378</td> <td>   18.010</td> <td>    0.002</td> <td> 0.998</td> <td>  -35.260</td> <td>   35.336</td>\n",
       "</tr>\n",
       "<tr>\n",
       "  <th>sigma2</th>    <td> 3.963e+06</td> <td>    0.000</td> <td> 1.94e+10</td> <td> 0.000</td> <td> 3.96e+06</td> <td> 3.96e+06</td>\n",
       "</tr>\n",
       "</table>\n",
       "<table class=\"simpletable\">\n",
       "<tr>\n",
       "  <th>Ljung-Box (L1) (Q):</th>     <td>0.00</td> <th>  Jarque-Bera (JB):  </th> <td>273.97</td>\n",
       "</tr>\n",
       "<tr>\n",
       "  <th>Prob(Q):</th>                <td>0.95</td> <th>  Prob(JB):          </th>  <td>0.00</td> \n",
       "</tr>\n",
       "<tr>\n",
       "  <th>Heteroskedasticity (H):</th> <td>1.76</td> <th>  Skew:              </th>  <td>0.01</td> \n",
       "</tr>\n",
       "<tr>\n",
       "  <th>Prob(H) (two-sided):</th>    <td>0.01</td> <th>  Kurtosis:          </th>  <td>8.13</td> \n",
       "</tr>\n",
       "</table><br/><br/>Warnings:<br/>[1] Covariance matrix calculated using the outer product of gradients (complex-step).<br/>[2] Covariance matrix is singular or near-singular, with condition number 2.6e+27. Standard errors may be unstable."
      ],
      "text/latex": [
       "\\begin{center}\n",
       "\\begin{tabular}{lclc}\n",
       "\\toprule\n",
       "\\textbf{Dep. Variable:}          &            size\\_80            & \\textbf{  No. Observations:  } &    250      \\\\\n",
       "\\textbf{Model:}                  & SARIMAX(3, 0, 8)x(3, 0, 8, 52) & \\textbf{  Log Likelihood     } & -2253.359   \\\\\n",
       "\\textbf{Date:}                   &        Thu, 26 Sep 2024        & \\textbf{  AIC                } &  4552.717   \\\\\n",
       "\\textbf{Time:}                   &            09:35:20            & \\textbf{  BIC                } &  4633.711   \\\\\n",
       "\\textbf{Sample:}                 &           09-16-2018           & \\textbf{  HQIC               } &  4585.315   \\\\\n",
       "\\textbf{}                        &          - 06-25-2023          & \\textbf{                     } &             \\\\\n",
       "\\textbf{Covariance Type:}        &              opg               & \\textbf{                     } &             \\\\\n",
       "\\bottomrule\n",
       "\\end{tabular}\n",
       "\\begin{tabular}{lcccccc}\n",
       "                   & \\textbf{coef} & \\textbf{std err} & \\textbf{z} & \\textbf{P$> |$z$|$} & \\textbf{[0.025} & \\textbf{0.975]}  \\\\\n",
       "\\midrule\n",
       "\\textbf{ar.L1}     &      -0.4658  &        0.213     &    -2.189  &         0.029        &       -0.883    &       -0.049     \\\\\n",
       "\\textbf{ar.L2}     &       0.5814  &        0.136     &     4.277  &         0.000        &        0.315    &        0.848     \\\\\n",
       "\\textbf{ar.L3}     &       0.8829  &        0.209     &     4.221  &         0.000        &        0.473    &        1.293     \\\\\n",
       "\\textbf{ma.L1}     &       1.5080  &        0.212     &     7.123  &         0.000        &        1.093    &        1.923     \\\\\n",
       "\\textbf{ma.L2}     &       1.0902  &        0.259     &     4.211  &         0.000        &        0.583    &        1.598     \\\\\n",
       "\\textbf{ma.L3}     &       0.1971  &        0.159     &     1.237  &         0.216        &       -0.115    &        0.509     \\\\\n",
       "\\textbf{ma.L4}     &      -0.0473  &        0.161     &    -0.293  &         0.770        &       -0.363    &        0.269     \\\\\n",
       "\\textbf{ma.L5}     &      -0.2611  &        0.155     &    -1.686  &         0.092        &       -0.565    &        0.042     \\\\\n",
       "\\textbf{ma.L6}     &      -0.2353  &        0.163     &    -1.446  &         0.148        &       -0.554    &        0.084     \\\\\n",
       "\\textbf{ma.L7}     &      -0.0491  &        0.167     &    -0.294  &         0.769        &       -0.376    &        0.278     \\\\\n",
       "\\textbf{ma.L8}     &       0.0214  &        0.095     &     0.224  &         0.823        &       -0.165    &        0.208     \\\\\n",
       "\\textbf{ar.S.L52}  &       0.1303  &       17.861     &     0.007  &         0.994        &      -34.877    &       35.137     \\\\\n",
       "\\textbf{ar.S.L104} &       0.3525  &       43.976     &     0.008  &         0.994        &      -85.838    &       86.543     \\\\\n",
       "\\textbf{ar.S.L156} &       0.0469  &       13.010     &     0.004  &         0.997        &      -25.453    &       25.547     \\\\\n",
       "\\textbf{ma.S.L52}  &      -0.1053  &       19.133     &    -0.006  &         0.996        &      -37.604    &       37.394     \\\\\n",
       "\\textbf{ma.S.L104} &      -0.3064  &       44.448     &    -0.007  &         0.994        &      -87.422    &       86.809     \\\\\n",
       "\\textbf{ma.S.L156} &      -0.0757  &       13.665     &    -0.006  &         0.996        &      -26.859    &       26.707     \\\\\n",
       "\\textbf{ma.S.L208} &      -0.1781  &        3.957     &    -0.045  &         0.964        &       -7.934    &        7.577     \\\\\n",
       "\\textbf{ma.S.L260} &       0.0328  &       11.213     &     0.003  &         0.998        &      -21.944    &       22.010     \\\\\n",
       "\\textbf{ma.S.L312} &       0.0413  &       14.782     &     0.003  &         0.998        &      -28.930    &       29.013     \\\\\n",
       "\\textbf{ma.S.L364} &       0.0183  &       18.901     &     0.001  &         0.999        &      -37.026    &       37.063     \\\\\n",
       "\\textbf{ma.S.L416} &       0.0378  &       18.010     &     0.002  &         0.998        &      -35.260    &       35.336     \\\\\n",
       "\\textbf{sigma2}    &    3.963e+06  &        0.000     &  1.94e+10  &         0.000        &     3.96e+06    &     3.96e+06     \\\\\n",
       "\\bottomrule\n",
       "\\end{tabular}\n",
       "\\begin{tabular}{lclc}\n",
       "\\textbf{Ljung-Box (L1) (Q):}     & 0.00 & \\textbf{  Jarque-Bera (JB):  } & 273.97  \\\\\n",
       "\\textbf{Prob(Q):}                & 0.95 & \\textbf{  Prob(JB):          } &  0.00   \\\\\n",
       "\\textbf{Heteroskedasticity (H):} & 1.76 & \\textbf{  Skew:              } &  0.01   \\\\\n",
       "\\textbf{Prob(H) (two-sided):}    & 0.01 & \\textbf{  Kurtosis:          } &  8.13   \\\\\n",
       "\\bottomrule\n",
       "\\end{tabular}\n",
       "%\\caption{SARIMAX Results}\n",
       "\\end{center}\n",
       "\n",
       "Warnings: \\newline\n",
       " [1] Covariance matrix calculated using the outer product of gradients (complex-step). \\newline\n",
       " [2] Covariance matrix is singular or near-singular, with condition number 2.6e+27. Standard errors may be unstable."
      ],
      "text/plain": [
       "<class 'statsmodels.iolib.summary.Summary'>\n",
       "\"\"\"\n",
       "                                     SARIMAX Results                                      \n",
       "==========================================================================================\n",
       "Dep. Variable:                            size_80   No. Observations:                  250\n",
       "Model:             SARIMAX(3, 0, 8)x(3, 0, 8, 52)   Log Likelihood               -2253.359\n",
       "Date:                            Thu, 26 Sep 2024   AIC                           4552.717\n",
       "Time:                                    09:35:20   BIC                           4633.711\n",
       "Sample:                                09-16-2018   HQIC                          4585.315\n",
       "                                     - 06-25-2023                                         \n",
       "Covariance Type:                              opg                                         \n",
       "==============================================================================\n",
       "                 coef    std err          z      P>|z|      [0.025      0.975]\n",
       "------------------------------------------------------------------------------\n",
       "ar.L1         -0.4658      0.213     -2.189      0.029      -0.883      -0.049\n",
       "ar.L2          0.5814      0.136      4.277      0.000       0.315       0.848\n",
       "ar.L3          0.8829      0.209      4.221      0.000       0.473       1.293\n",
       "ma.L1          1.5080      0.212      7.123      0.000       1.093       1.923\n",
       "ma.L2          1.0902      0.259      4.211      0.000       0.583       1.598\n",
       "ma.L3          0.1971      0.159      1.237      0.216      -0.115       0.509\n",
       "ma.L4         -0.0473      0.161     -0.293      0.770      -0.363       0.269\n",
       "ma.L5         -0.2611      0.155     -1.686      0.092      -0.565       0.042\n",
       "ma.L6         -0.2353      0.163     -1.446      0.148      -0.554       0.084\n",
       "ma.L7         -0.0491      0.167     -0.294      0.769      -0.376       0.278\n",
       "ma.L8          0.0214      0.095      0.224      0.823      -0.165       0.208\n",
       "ar.S.L52       0.1303     17.861      0.007      0.994     -34.877      35.137\n",
       "ar.S.L104      0.3525     43.976      0.008      0.994     -85.838      86.543\n",
       "ar.S.L156      0.0469     13.010      0.004      0.997     -25.453      25.547\n",
       "ma.S.L52      -0.1053     19.133     -0.006      0.996     -37.604      37.394\n",
       "ma.S.L104     -0.3064     44.448     -0.007      0.994     -87.422      86.809\n",
       "ma.S.L156     -0.0757     13.665     -0.006      0.996     -26.859      26.707\n",
       "ma.S.L208     -0.1781      3.957     -0.045      0.964      -7.934       7.577\n",
       "ma.S.L260      0.0328     11.213      0.003      0.998     -21.944      22.010\n",
       "ma.S.L312      0.0413     14.782      0.003      0.998     -28.930      29.013\n",
       "ma.S.L364      0.0183     18.901      0.001      0.999     -37.026      37.063\n",
       "ma.S.L416      0.0378     18.010      0.002      0.998     -35.260      35.336\n",
       "sigma2      3.963e+06      0.000   1.94e+10      0.000    3.96e+06    3.96e+06\n",
       "===================================================================================\n",
       "Ljung-Box (L1) (Q):                   0.00   Jarque-Bera (JB):               273.97\n",
       "Prob(Q):                              0.95   Prob(JB):                         0.00\n",
       "Heteroskedasticity (H):               1.76   Skew:                             0.01\n",
       "Prob(H) (two-sided):                  0.01   Kurtosis:                         8.13\n",
       "===================================================================================\n",
       "\n",
       "Warnings:\n",
       "[1] Covariance matrix calculated using the outer product of gradients (complex-step).\n",
       "[2] Covariance matrix is singular or near-singular, with condition number 2.6e+27. Standard errors may be unstable.\n",
       "\"\"\""
      ]
     },
     "execution_count": 10,
     "metadata": {},
     "output_type": "execute_result"
    }
   ],
   "source": [
    "# # Menggunakan parameter PDQ dari plot visual\n",
    "\n",
    "sar_visual=SARIMAX(train['size_80'], order=(3, 0, 8),seasonal_order=(3, 0, 8, 52)).fit()\n",
    "sar_visual.summary()"
   ]
  },
  {
   "cell_type": "markdown",
   "metadata": {},
   "source": [
    "Proses Training menggunakan SARIMA dengan PDQ 3,0,8 menghasilkan AIC sebesar 4552.7"
   ]
  },
  {
   "cell_type": "markdown",
   "metadata": {},
   "source": [
    "### 4.2.2 - SARIMA Find Best Model"
   ]
  },
  {
   "cell_type": "code",
   "execution_count": 11,
   "metadata": {},
   "outputs": [
    {
     "data": {
      "text/html": [
       "<table class=\"simpletable\">\n",
       "<caption>SARIMAX Results</caption>\n",
       "<tr>\n",
       "  <th>Dep. Variable:</th>               <td>size_80</td>            <th>  No. Observations:  </th>   <td>250</td> \n",
       "</tr>\n",
       "<tr>\n",
       "  <th>Model:</th>           <td>SARIMAX(5, 9, 1)x(5, 9, 1, 52)</td> <th>  Log Likelihood     </th>  <td>0.000</td>\n",
       "</tr>\n",
       "<tr>\n",
       "  <th>Date:</th>                   <td>Thu, 26 Sep 2024</td>        <th>  AIC                </th> <td>26.000</td>\n",
       "</tr>\n",
       "<tr>\n",
       "  <th>Time:</th>                       <td>09:43:43</td>            <th>  BIC                </th>  <td>  nan</td>\n",
       "</tr>\n",
       "<tr>\n",
       "  <th>Sample:</th>                    <td>09-16-2018</td>           <th>  HQIC               </th>  <td>  nan</td>\n",
       "</tr>\n",
       "<tr>\n",
       "  <th></th>                          <td>- 06-25-2023</td>          <th>                     </th>    <td> </td>  \n",
       "</tr>\n",
       "<tr>\n",
       "  <th>Covariance Type:</th>               <td>opg</td>              <th>                     </th>    <td> </td>  \n",
       "</tr>\n",
       "</table>\n",
       "<table class=\"simpletable\">\n",
       "<tr>\n",
       "      <td></td>         <th>coef</th>     <th>std err</th>      <th>z</th>      <th>P>|z|</th>  <th>[0.025</th>    <th>0.975]</th>  \n",
       "</tr>\n",
       "<tr>\n",
       "  <th>ar.L1</th>     <td>        -0</td> <td>       -0</td> <td>      nan</td> <td>   nan</td> <td>        0</td> <td>       -0</td>\n",
       "</tr>\n",
       "<tr>\n",
       "  <th>ar.L2</th>     <td>        -0</td> <td>       -0</td> <td>      nan</td> <td>   nan</td> <td>        0</td> <td>       -0</td>\n",
       "</tr>\n",
       "<tr>\n",
       "  <th>ar.L3</th>     <td>         0</td> <td>       -0</td> <td>      nan</td> <td>   nan</td> <td>        0</td> <td>        0</td>\n",
       "</tr>\n",
       "<tr>\n",
       "  <th>ar.L4</th>     <td>         0</td> <td>       -0</td> <td>      nan</td> <td>   nan</td> <td>        0</td> <td>        0</td>\n",
       "</tr>\n",
       "<tr>\n",
       "  <th>ar.L5</th>     <td>         0</td> <td>       -0</td> <td>      nan</td> <td>   nan</td> <td>        0</td> <td>        0</td>\n",
       "</tr>\n",
       "<tr>\n",
       "  <th>ma.L1</th>     <td>         0</td> <td>       -0</td> <td>      nan</td> <td>   nan</td> <td>        0</td> <td>        0</td>\n",
       "</tr>\n",
       "<tr>\n",
       "  <th>ar.S.L52</th>  <td>        -0</td> <td>       -0</td> <td>      nan</td> <td>   nan</td> <td>        0</td> <td>       -0</td>\n",
       "</tr>\n",
       "<tr>\n",
       "  <th>ar.S.L104</th> <td>        -0</td> <td>       -0</td> <td>      nan</td> <td>   nan</td> <td>        0</td> <td>       -0</td>\n",
       "</tr>\n",
       "<tr>\n",
       "  <th>ar.S.L156</th> <td>         0</td> <td>       -0</td> <td>      nan</td> <td>   nan</td> <td>        0</td> <td>        0</td>\n",
       "</tr>\n",
       "<tr>\n",
       "  <th>ar.S.L208</th> <td>         0</td> <td>       -0</td> <td>      nan</td> <td>   nan</td> <td>        0</td> <td>        0</td>\n",
       "</tr>\n",
       "<tr>\n",
       "  <th>ar.S.L260</th> <td>         0</td> <td>       -0</td> <td>      nan</td> <td>   nan</td> <td>        0</td> <td>        0</td>\n",
       "</tr>\n",
       "<tr>\n",
       "  <th>ma.S.L52</th>  <td>         0</td> <td>       -0</td> <td>      nan</td> <td>   nan</td> <td>        0</td> <td>        0</td>\n",
       "</tr>\n",
       "<tr>\n",
       "  <th>sigma2</th>    <td>    1.0000</td> <td>       -0</td> <td>     -inf</td> <td> 0.000</td> <td>    1.000</td> <td>    1.000</td>\n",
       "</tr>\n",
       "</table>\n",
       "<table class=\"simpletable\">\n",
       "<tr>\n",
       "  <th>Ljung-Box (L1) (Q):</th>     <td>nan</td> <th>  Jarque-Bera (JB):  </th> <td>nan</td>\n",
       "</tr>\n",
       "<tr>\n",
       "  <th>Prob(Q):</th>                <td>nan</td> <th>  Prob(JB):          </th> <td>nan</td>\n",
       "</tr>\n",
       "<tr>\n",
       "  <th>Heteroskedasticity (H):</th> <td>nan</td> <th>  Skew:              </th> <td>nan</td>\n",
       "</tr>\n",
       "<tr>\n",
       "  <th>Prob(H) (two-sided):</th>    <td>nan</td> <th>  Kurtosis:          </th> <td>nan</td>\n",
       "</tr>\n",
       "</table><br/><br/>Warnings:<br/>[1] Covariance matrix calculated using the outer product of gradients (complex-step).<br/>[2] Covariance matrix is singular or near-singular, with condition number    inf. Standard errors may be unstable."
      ],
      "text/latex": [
       "\\begin{center}\n",
       "\\begin{tabular}{lclc}\n",
       "\\toprule\n",
       "\\textbf{Dep. Variable:}          &            size\\_80            & \\textbf{  No. Observations:  } &    250      \\\\\n",
       "\\textbf{Model:}                  & SARIMAX(5, 9, 1)x(5, 9, 1, 52) & \\textbf{  Log Likelihood     } &   0.000     \\\\\n",
       "\\textbf{Date:}                   &        Thu, 26 Sep 2024        & \\textbf{  AIC                } &   26.000    \\\\\n",
       "\\textbf{Time:}                   &            09:43:43            & \\textbf{  BIC                } &     nan     \\\\\n",
       "\\textbf{Sample:}                 &           09-16-2018           & \\textbf{  HQIC               } &     nan     \\\\\n",
       "\\textbf{}                        &          - 06-25-2023          & \\textbf{                     } &             \\\\\n",
       "\\textbf{Covariance Type:}        &              opg               & \\textbf{                     } &             \\\\\n",
       "\\bottomrule\n",
       "\\end{tabular}\n",
       "\\begin{tabular}{lcccccc}\n",
       "                   & \\textbf{coef} & \\textbf{std err} & \\textbf{z} & \\textbf{P$> |$z$|$} & \\textbf{[0.025} & \\textbf{0.975]}  \\\\\n",
       "\\midrule\n",
       "\\textbf{ar.L1}     &           -0  &           -0     &       nan  &           nan        &            0    &           -0     \\\\\n",
       "\\textbf{ar.L2}     &           -0  &           -0     &       nan  &           nan        &            0    &           -0     \\\\\n",
       "\\textbf{ar.L3}     &            0  &           -0     &       nan  &           nan        &            0    &            0     \\\\\n",
       "\\textbf{ar.L4}     &            0  &           -0     &       nan  &           nan        &            0    &            0     \\\\\n",
       "\\textbf{ar.L5}     &            0  &           -0     &       nan  &           nan        &            0    &            0     \\\\\n",
       "\\textbf{ma.L1}     &            0  &           -0     &       nan  &           nan        &            0    &            0     \\\\\n",
       "\\textbf{ar.S.L52}  &           -0  &           -0     &       nan  &           nan        &            0    &           -0     \\\\\n",
       "\\textbf{ar.S.L104} &           -0  &           -0     &       nan  &           nan        &            0    &           -0     \\\\\n",
       "\\textbf{ar.S.L156} &            0  &           -0     &       nan  &           nan        &            0    &            0     \\\\\n",
       "\\textbf{ar.S.L208} &            0  &           -0     &       nan  &           nan        &            0    &            0     \\\\\n",
       "\\textbf{ar.S.L260} &            0  &           -0     &       nan  &           nan        &            0    &            0     \\\\\n",
       "\\textbf{ma.S.L52}  &            0  &           -0     &       nan  &           nan        &            0    &            0     \\\\\n",
       "\\textbf{sigma2}    &       1.0000  &           -0     &      -inf  &         0.000        &        1.000    &        1.000     \\\\\n",
       "\\bottomrule\n",
       "\\end{tabular}\n",
       "\\begin{tabular}{lclc}\n",
       "\\textbf{Ljung-Box (L1) (Q):}     & nan & \\textbf{  Jarque-Bera (JB):  } & nan  \\\\\n",
       "\\textbf{Prob(Q):}                & nan & \\textbf{  Prob(JB):          } & nan  \\\\\n",
       "\\textbf{Heteroskedasticity (H):} & nan & \\textbf{  Skew:              } & nan  \\\\\n",
       "\\textbf{Prob(H) (two-sided):}    & nan & \\textbf{  Kurtosis:          } & nan  \\\\\n",
       "\\bottomrule\n",
       "\\end{tabular}\n",
       "%\\caption{SARIMAX Results}\n",
       "\\end{center}\n",
       "\n",
       "Warnings: \\newline\n",
       " [1] Covariance matrix calculated using the outer product of gradients (complex-step). \\newline\n",
       " [2] Covariance matrix is singular or near-singular, with condition number    inf. Standard errors may be unstable."
      ],
      "text/plain": [
       "<class 'statsmodels.iolib.summary.Summary'>\n",
       "\"\"\"\n",
       "                                     SARIMAX Results                                      \n",
       "==========================================================================================\n",
       "Dep. Variable:                            size_80   No. Observations:                  250\n",
       "Model:             SARIMAX(5, 9, 1)x(5, 9, 1, 52)   Log Likelihood                   0.000\n",
       "Date:                            Thu, 26 Sep 2024   AIC                             26.000\n",
       "Time:                                    09:43:43   BIC                                nan\n",
       "Sample:                                09-16-2018   HQIC                               nan\n",
       "                                     - 06-25-2023                                         \n",
       "Covariance Type:                              opg                                         \n",
       "==============================================================================\n",
       "                 coef    std err          z      P>|z|      [0.025      0.975]\n",
       "------------------------------------------------------------------------------\n",
       "ar.L1              -0         -0        nan        nan           0          -0\n",
       "ar.L2              -0         -0        nan        nan           0          -0\n",
       "ar.L3               0         -0        nan        nan           0           0\n",
       "ar.L4               0         -0        nan        nan           0           0\n",
       "ar.L5               0         -0        nan        nan           0           0\n",
       "ma.L1               0         -0        nan        nan           0           0\n",
       "ar.S.L52           -0         -0        nan        nan           0          -0\n",
       "ar.S.L104          -0         -0        nan        nan           0          -0\n",
       "ar.S.L156           0         -0        nan        nan           0           0\n",
       "ar.S.L208           0         -0        nan        nan           0           0\n",
       "ar.S.L260           0         -0        nan        nan           0           0\n",
       "ma.S.L52            0         -0        nan        nan           0           0\n",
       "sigma2         1.0000         -0       -inf      0.000       1.000       1.000\n",
       "===================================================================================\n",
       "Ljung-Box (L1) (Q):                    nan   Jarque-Bera (JB):                  nan\n",
       "Prob(Q):                               nan   Prob(JB):                          nan\n",
       "Heteroskedasticity (H):                nan   Skew:                              nan\n",
       "Prob(H) (two-sided):                   nan   Kurtosis:                          nan\n",
       "===================================================================================\n",
       "\n",
       "Warnings:\n",
       "[1] Covariance matrix calculated using the outer product of gradients (complex-step).\n",
       "[2] Covariance matrix is singular or near-singular, with condition number    inf. Standard errors may be unstable.\n",
       "\"\"\""
      ]
     },
     "execution_count": 11,
     "metadata": {},
     "output_type": "execute_result"
    }
   ],
   "source": [
    "# # Menggunakan parameter PDQ dari fungsi find best model\n",
    "\n",
    "sar_find=SARIMAX(train['size_80'], order=(5, 9, 1),seasonal_order=(5, 9, 1, 52)).fit()\n",
    "sar_find.summary()"
   ]
  },
  {
   "cell_type": "markdown",
   "metadata": {},
   "source": [
    "Proses Training menggunakan SARIMA dengan PDQ 5,9,1 menghasilkan AIC sebesar 26.0"
   ]
  },
  {
   "cell_type": "markdown",
   "metadata": {},
   "source": [
    "# 5 - Model Evaluation"
   ]
  },
  {
   "cell_type": "markdown",
   "metadata": {},
   "source": [
    "## 5.1 - ARIMA"
   ]
  },
  {
   "cell_type": "markdown",
   "metadata": {},
   "source": [
    "### 5.1.1 - Visual Plot"
   ]
  },
  {
   "cell_type": "code",
   "execution_count": 37,
   "metadata": {},
   "outputs": [],
   "source": [
    "arima_pred_test_viz = result_model_arima_visual.predict(start=\"2023-07-02\", end=\"2024-09-22\",dynamic=True)\n",
    "arima_pred_test_viz = pd.DataFrame(arima_pred_test_viz)\n",
    "arima_pred_test_viz.columns = ['price_predict_vizplot']"
   ]
  },
  {
   "cell_type": "markdown",
   "metadata": {},
   "source": [
    "Proses predict dilakukan mulai tanggal `2023-07-02` hingga `2024-09-22`"
   ]
  },
  {
   "cell_type": "code",
   "execution_count": 38,
   "metadata": {},
   "outputs": [
    {
     "data": {
      "text/html": [
       "<div>\n",
       "<style scoped>\n",
       "    .dataframe tbody tr th:only-of-type {\n",
       "        vertical-align: middle;\n",
       "    }\n",
       "\n",
       "    .dataframe tbody tr th {\n",
       "        vertical-align: top;\n",
       "    }\n",
       "\n",
       "    .dataframe thead th {\n",
       "        text-align: right;\n",
       "    }\n",
       "</style>\n",
       "<table border=\"1\" class=\"dataframe\">\n",
       "  <thead>\n",
       "    <tr style=\"text-align: right;\">\n",
       "      <th></th>\n",
       "      <th>size_80</th>\n",
       "      <th>price_predict_vizplot</th>\n",
       "    </tr>\n",
       "  </thead>\n",
       "  <tbody>\n",
       "    <tr>\n",
       "      <th>2023-07-02</th>\n",
       "      <td>53000.000000</td>\n",
       "      <td>52805.397425</td>\n",
       "    </tr>\n",
       "    <tr>\n",
       "      <th>2023-07-09</th>\n",
       "      <td>49000.000000</td>\n",
       "      <td>53575.505738</td>\n",
       "    </tr>\n",
       "    <tr>\n",
       "      <th>2023-07-16</th>\n",
       "      <td>49000.000000</td>\n",
       "      <td>54182.922973</td>\n",
       "    </tr>\n",
       "    <tr>\n",
       "      <th>2023-07-23</th>\n",
       "      <td>52714.285714</td>\n",
       "      <td>54942.929613</td>\n",
       "    </tr>\n",
       "    <tr>\n",
       "      <th>2023-07-30</th>\n",
       "      <td>51500.000000</td>\n",
       "      <td>55526.300333</td>\n",
       "    </tr>\n",
       "    <tr>\n",
       "      <th>...</th>\n",
       "      <td>...</td>\n",
       "      <td>...</td>\n",
       "    </tr>\n",
       "    <tr>\n",
       "      <th>2024-08-25</th>\n",
       "      <td>60000.000000</td>\n",
       "      <td>59071.604404</td>\n",
       "    </tr>\n",
       "    <tr>\n",
       "      <th>2024-09-01</th>\n",
       "      <td>59000.000000</td>\n",
       "      <td>59067.369818</td>\n",
       "    </tr>\n",
       "    <tr>\n",
       "      <th>2024-09-08</th>\n",
       "      <td>60000.000000</td>\n",
       "      <td>59072.444049</td>\n",
       "    </tr>\n",
       "    <tr>\n",
       "      <th>2024-09-15</th>\n",
       "      <td>60000.000000</td>\n",
       "      <td>59068.804320</td>\n",
       "    </tr>\n",
       "    <tr>\n",
       "      <th>2024-09-22</th>\n",
       "      <td>60000.000000</td>\n",
       "      <td>59069.895230</td>\n",
       "    </tr>\n",
       "  </tbody>\n",
       "</table>\n",
       "<p>65 rows × 2 columns</p>\n",
       "</div>"
      ],
      "text/plain": [
       "                 size_80  price_predict_vizplot\n",
       "2023-07-02  53000.000000           52805.397425\n",
       "2023-07-09  49000.000000           53575.505738\n",
       "2023-07-16  49000.000000           54182.922973\n",
       "2023-07-23  52714.285714           54942.929613\n",
       "2023-07-30  51500.000000           55526.300333\n",
       "...                  ...                    ...\n",
       "2024-08-25  60000.000000           59071.604404\n",
       "2024-09-01  59000.000000           59067.369818\n",
       "2024-09-08  60000.000000           59072.444049\n",
       "2024-09-15  60000.000000           59068.804320\n",
       "2024-09-22  60000.000000           59069.895230\n",
       "\n",
       "[65 rows x 2 columns]"
      ]
     },
     "execution_count": 38,
     "metadata": {},
     "output_type": "execute_result"
    }
   ],
   "source": [
    "# Concate dengan actual test set\n",
    "act_vs_pred_arima = pd.concat([test, arima_pred_test_viz],axis=1)\n",
    "act_vs_pred_arima"
   ]
  },
  {
   "cell_type": "markdown",
   "metadata": {},
   "source": [
    "Hasil prediksi terlihat cukup sesuai dengan harga aktual test-set"
   ]
  },
  {
   "cell_type": "code",
   "execution_count": 24,
   "metadata": {},
   "outputs": [
    {
     "name": "stdout",
     "output_type": "stream",
     "text": [
      "\t ARIMA MODEL : In- Sample Forecasting \n",
      "\n",
      "predicted = 54667.282660, expected = 57000.000000\n",
      "predicted = 57233.819752, expected = 54000.000000\n",
      "predicted = 54618.726347, expected = 56125.000000\n",
      "predicted = 55984.317202, expected = 56400.000000\n",
      "predicted = 56845.931408, expected = 56857.142857\n",
      "predicted = 57084.280954, expected = 56000.000000\n",
      "predicted = 56729.632238, expected = 55875.000000\n",
      "predicted = 55918.621761, expected = 55750.000000\n",
      "predicted = 55592.478918, expected = 55984.375000\n",
      "predicted = 56511.985448, expected = 57000.000000\n",
      "predicted = 57240.271064, expected = 57666.666667\n",
      "predicted = 57788.540480, expected = 59000.000000\n",
      "predicted = 59230.922949, expected = 58000.000000\n",
      "predicted = 58181.903772, expected = 56142.857143\n",
      "predicted = 56001.433280, expected = 56000.000000\n",
      "predicted = 55815.325926, expected = 56000.000000\n",
      "predicted = 56024.543277, expected = 56333.333333\n",
      "predicted = 56664.221921, expected = 56666.666667\n",
      "predicted = 57134.233943, expected = 57333.333333\n",
      "predicted = 57274.661380, expected = 57000.000000\n",
      "predicted = 57058.604219, expected = 57653.846154\n",
      "predicted = 57868.165711, expected = 58000.000000\n",
      "predicted = 57919.781369, expected = 58000.000000\n",
      "predicted = 58116.594916, expected = 58000.000000\n",
      "predicted = 58116.405069, expected = 60000.000000\n",
      "predicted = 59693.081496, expected = 60000.000000\n",
      "predicted = 60341.532410, expected = 59000.000000\n",
      "predicted = 59007.059931, expected = 60000.000000\n",
      "predicted = 59508.356988, expected = 60000.000000\n",
      "predicted = 60057.685704, expected = 60000.000000\n"
     ]
    }
   ],
   "source": [
    "size = int(len(df_80) - 30)\n",
    "train_v2, test_v2 = df_80['size_80'][0:size], df_80['size_80'][size:len(df_80)]\n",
    "\n",
    "print('\\t ARIMA MODEL : In- Sample Forecasting \\n')\n",
    "\n",
    "history = [x for x in train_v2]\n",
    "predictions = []\n",
    "\n",
    "for t in range(len(test_v2)):\n",
    "    \n",
    "    model = ARIMA(history, order=(3,0,8))\n",
    "    model_fit = model.fit()\n",
    "    \n",
    "    output = model_fit.forecast()\n",
    "    yhat = output[0]\n",
    "    predictions.append(float(yhat))\n",
    "    \n",
    "    obs = test_v2[t]\n",
    "    history.append(obs)\n",
    "    \n",
    "    print('predicted = %f, expected = %f' % (yhat, obs))"
   ]
  },
  {
   "cell_type": "code",
   "execution_count": 23,
   "metadata": {},
   "outputs": [
    {
     "name": "stdout",
     "output_type": "stream",
     "text": [
      "MAE test  :  3584.5167110506522\n",
      "RMSE test :  4507.699135747741\n"
     ]
    }
   ],
   "source": [
    "print('MAE test  : ', mean_absolute_error(test, arima_pred_test_viz))\n",
    "print('RMSE test : ', np.sqrt(mean_squared_error(test, arima_pred_test_viz)))"
   ]
  },
  {
   "cell_type": "code",
   "execution_count": 25,
   "metadata": {},
   "outputs": [
    {
     "name": "stdout",
     "output_type": "stream",
     "text": [
      "MAPE test :  1.3066986583553153\n"
     ]
    }
   ],
   "source": [
    "# Menghitung MAPE\n",
    "mape = np.mean(np.abs((test_v2 - predictions) / test_v2)) * 100\n",
    "\n",
    "print('MAPE test : ', mape)"
   ]
  },
  {
   "cell_type": "markdown",
   "metadata": {},
   "source": [
    "Evaluasi error menghasilkan angka yang cukup bagus yaitu MAE 3584.51, RMSE 4507.69, dan MAPE 1.3%"
   ]
  },
  {
   "cell_type": "markdown",
   "metadata": {},
   "source": [
    "### 5.1.2 - Find Best Model Function"
   ]
  },
  {
   "cell_type": "code",
   "execution_count": 39,
   "metadata": {},
   "outputs": [
    {
     "data": {
      "text/html": [
       "<div>\n",
       "<style scoped>\n",
       "    .dataframe tbody tr th:only-of-type {\n",
       "        vertical-align: middle;\n",
       "    }\n",
       "\n",
       "    .dataframe tbody tr th {\n",
       "        vertical-align: top;\n",
       "    }\n",
       "\n",
       "    .dataframe thead th {\n",
       "        text-align: right;\n",
       "    }\n",
       "</style>\n",
       "<table border=\"1\" class=\"dataframe\">\n",
       "  <thead>\n",
       "    <tr style=\"text-align: right;\">\n",
       "      <th></th>\n",
       "      <th>size_80</th>\n",
       "      <th>price_predict_vizplot</th>\n",
       "      <th>price_predict_findfunc</th>\n",
       "    </tr>\n",
       "  </thead>\n",
       "  <tbody>\n",
       "    <tr>\n",
       "      <th>2023-07-02</th>\n",
       "      <td>53000.000000</td>\n",
       "      <td>52805.397425</td>\n",
       "      <td>-1.477123e+19</td>\n",
       "    </tr>\n",
       "    <tr>\n",
       "      <th>2023-07-09</th>\n",
       "      <td>49000.000000</td>\n",
       "      <td>53575.505738</td>\n",
       "      <td>-1.524688e+19</td>\n",
       "    </tr>\n",
       "    <tr>\n",
       "      <th>2023-07-16</th>\n",
       "      <td>49000.000000</td>\n",
       "      <td>54182.922973</td>\n",
       "      <td>-1.573588e+19</td>\n",
       "    </tr>\n",
       "    <tr>\n",
       "      <th>2023-07-23</th>\n",
       "      <td>52714.285714</td>\n",
       "      <td>54942.929613</td>\n",
       "      <td>-1.623855e+19</td>\n",
       "    </tr>\n",
       "    <tr>\n",
       "      <th>2023-07-30</th>\n",
       "      <td>51500.000000</td>\n",
       "      <td>55526.300333</td>\n",
       "      <td>-1.675521e+19</td>\n",
       "    </tr>\n",
       "    <tr>\n",
       "      <th>...</th>\n",
       "      <td>...</td>\n",
       "      <td>...</td>\n",
       "      <td>...</td>\n",
       "    </tr>\n",
       "    <tr>\n",
       "      <th>2024-08-25</th>\n",
       "      <td>60000.000000</td>\n",
       "      <td>59071.604404</td>\n",
       "      <td>-8.159079e+19</td>\n",
       "    </tr>\n",
       "    <tr>\n",
       "      <th>2024-09-01</th>\n",
       "      <td>59000.000000</td>\n",
       "      <td>59067.369818</td>\n",
       "      <td>-8.370690e+19</td>\n",
       "    </tr>\n",
       "    <tr>\n",
       "      <th>2024-09-08</th>\n",
       "      <td>60000.000000</td>\n",
       "      <td>59072.444049</td>\n",
       "      <td>-8.587088e+19</td>\n",
       "    </tr>\n",
       "    <tr>\n",
       "      <th>2024-09-15</th>\n",
       "      <td>60000.000000</td>\n",
       "      <td>59068.804320</td>\n",
       "      <td>-8.808365e+19</td>\n",
       "    </tr>\n",
       "    <tr>\n",
       "      <th>2024-09-22</th>\n",
       "      <td>60000.000000</td>\n",
       "      <td>59069.895230</td>\n",
       "      <td>-9.034614e+19</td>\n",
       "    </tr>\n",
       "  </tbody>\n",
       "</table>\n",
       "<p>65 rows × 3 columns</p>\n",
       "</div>"
      ],
      "text/plain": [
       "                 size_80  price_predict_vizplot  price_predict_findfunc\n",
       "2023-07-02  53000.000000           52805.397425           -1.477123e+19\n",
       "2023-07-09  49000.000000           53575.505738           -1.524688e+19\n",
       "2023-07-16  49000.000000           54182.922973           -1.573588e+19\n",
       "2023-07-23  52714.285714           54942.929613           -1.623855e+19\n",
       "2023-07-30  51500.000000           55526.300333           -1.675521e+19\n",
       "...                  ...                    ...                     ...\n",
       "2024-08-25  60000.000000           59071.604404           -8.159079e+19\n",
       "2024-09-01  59000.000000           59067.369818           -8.370690e+19\n",
       "2024-09-08  60000.000000           59072.444049           -8.587088e+19\n",
       "2024-09-15  60000.000000           59068.804320           -8.808365e+19\n",
       "2024-09-22  60000.000000           59069.895230           -9.034614e+19\n",
       "\n",
       "[65 rows x 3 columns]"
      ]
     },
     "execution_count": 39,
     "metadata": {},
     "output_type": "execute_result"
    }
   ],
   "source": [
    "arima_pred_test_find = result_model_arima_find.predict(start=\"2023-07-02\", end=\"2024-09-22\")\n",
    "arima_pred_test_find = pd.DataFrame(arima_pred_test_find)\n",
    "arima_pred_test_find.columns = ['price_predict_findfunc']\n",
    "\n",
    "\n",
    "act_vs_pred_arima['price_predict_findfunc'] = arima_pred_test_find['price_predict_findfunc']\n",
    "act_vs_pred_arima"
   ]
  },
  {
   "cell_type": "markdown",
   "metadata": {},
   "source": [
    "Namun ketika dicoba menggunakan PDQ 5,9,1 hasil prediksinya melenceng jauh dari aktual test-set"
   ]
  },
  {
   "cell_type": "code",
   "execution_count": 41,
   "metadata": {},
   "outputs": [
    {
     "name": "stdout",
     "output_type": "stream",
     "text": [
      "\t ARIMA MODEL : In- Sample Forecasting \n",
      "\n",
      "predicted = 61793.180486, expected = 57000.000000\n",
      "predicted = 72280.859390, expected = 54000.000000\n",
      "predicted = 23564.655834, expected = 56125.000000\n",
      "predicted = 73137.826872, expected = 56400.000000\n",
      "predicted = 63781.082519, expected = 56857.142857\n",
      "predicted = 46645.998528, expected = 56000.000000\n",
      "predicted = 50197.607417, expected = 55875.000000\n",
      "predicted = 61355.871963, expected = 55750.000000\n",
      "predicted = 65749.199238, expected = 55984.375000\n",
      "predicted = 47155.621873, expected = 57000.000000\n",
      "predicted = 58044.413229, expected = 57666.666667\n",
      "predicted = 54376.364063, expected = 59000.000000\n",
      "predicted = 68528.728853, expected = 58000.000000\n",
      "predicted = 47417.833758, expected = 56142.857143\n",
      "predicted = 55232.167262, expected = 56000.000000\n",
      "predicted = 67629.859396, expected = 56000.000000\n",
      "predicted = 54097.261471, expected = 56333.333333\n",
      "predicted = 46026.866879, expected = 56666.666667\n",
      "predicted = 55282.519060, expected = 57333.333333\n",
      "predicted = 66567.139367, expected = 57000.000000\n",
      "predicted = 56181.062177, expected = 57653.846154\n",
      "predicted = 60014.917506, expected = 58000.000000\n",
      "predicted = 55306.734931, expected = 58000.000000\n",
      "predicted = 54765.980591, expected = 58000.000000\n",
      "predicted = 59483.916030, expected = 60000.000000\n",
      "predicted = 70233.110275, expected = 60000.000000\n",
      "predicted = 50849.375086, expected = 59000.000000\n",
      "predicted = 50765.417174, expected = 60000.000000\n",
      "predicted = 76510.345625, expected = 60000.000000\n",
      "predicted = 59079.481625, expected = 60000.000000\n"
     ]
    }
   ],
   "source": [
    "size = int(len(df_80) - 30)\n",
    "train_v2, test_v2 = df_80['size_80'][0:size], df_80['size_80'][size:len(df_80)]\n",
    "\n",
    "print('\\t ARIMA MODEL : In- Sample Forecasting \\n')\n",
    "\n",
    "history = [x for x in train_v2]\n",
    "predictions = []\n",
    "\n",
    "for t in range(len(test_v2)):\n",
    "    \n",
    "    model = ARIMA(history, order=(5,9,1))\n",
    "    model_fit = model.fit()\n",
    "    \n",
    "    output = model_fit.forecast()\n",
    "    yhat = output[0]\n",
    "    predictions.append(float(yhat))\n",
    "    \n",
    "    obs = test_v2[t]\n",
    "    history.append(obs)\n",
    "    \n",
    "    print('predicted = %f, expected = %f' % (yhat, obs))"
   ]
  },
  {
   "cell_type": "code",
   "execution_count": 40,
   "metadata": {},
   "outputs": [
    {
     "name": "stdout",
     "output_type": "stream",
     "text": [
      "MAE test  :  4.324150395836866e+19\n",
      "RMSE test :  4.846627767733659e+19\n"
     ]
    }
   ],
   "source": [
    "print('MAE test  : ', mean_absolute_error(test, arima_pred_test_find))\n",
    "print('RMSE test : ', np.sqrt(mean_squared_error(test, arima_pred_test_find)))"
   ]
  },
  {
   "cell_type": "code",
   "execution_count": 42,
   "metadata": {},
   "outputs": [
    {
     "name": "stdout",
     "output_type": "stream",
     "text": [
      "MAPE test :  13.787182411837314\n"
     ]
    }
   ],
   "source": [
    "# Menghitung MAPE\n",
    "mape = np.mean(np.abs((test_v2 - predictions) / test_v2)) * 100\n",
    "\n",
    "print('MAPE test : ', mape)"
   ]
  },
  {
   "cell_type": "markdown",
   "metadata": {},
   "source": [
    "Untuk Evaluasi model yang menggunakan fungsi Find PDQ terlihat error yang cukup besar dibanding dengan visual plot"
   ]
  },
  {
   "cell_type": "markdown",
   "metadata": {},
   "source": [
    "## 5.2 - SARIMA"
   ]
  },
  {
   "cell_type": "markdown",
   "metadata": {},
   "source": [
    "### 5.2.1 - Visual Plot"
   ]
  },
  {
   "cell_type": "code",
   "execution_count": 12,
   "metadata": {},
   "outputs": [
    {
     "data": {
      "text/html": [
       "<div>\n",
       "<style scoped>\n",
       "    .dataframe tbody tr th:only-of-type {\n",
       "        vertical-align: middle;\n",
       "    }\n",
       "\n",
       "    .dataframe tbody tr th {\n",
       "        vertical-align: top;\n",
       "    }\n",
       "\n",
       "    .dataframe thead th {\n",
       "        text-align: right;\n",
       "    }\n",
       "</style>\n",
       "<table border=\"1\" class=\"dataframe\">\n",
       "  <thead>\n",
       "    <tr style=\"text-align: right;\">\n",
       "      <th></th>\n",
       "      <th>size_80</th>\n",
       "      <th>price_predict</th>\n",
       "    </tr>\n",
       "  </thead>\n",
       "  <tbody>\n",
       "    <tr>\n",
       "      <th>2023-07-02</th>\n",
       "      <td>53000.000000</td>\n",
       "      <td>52313.853381</td>\n",
       "    </tr>\n",
       "    <tr>\n",
       "      <th>2023-07-09</th>\n",
       "      <td>49000.000000</td>\n",
       "      <td>51950.345514</td>\n",
       "    </tr>\n",
       "    <tr>\n",
       "      <th>2023-07-16</th>\n",
       "      <td>49000.000000</td>\n",
       "      <td>52015.632170</td>\n",
       "    </tr>\n",
       "    <tr>\n",
       "      <th>2023-07-23</th>\n",
       "      <td>52714.285714</td>\n",
       "      <td>52076.112307</td>\n",
       "    </tr>\n",
       "    <tr>\n",
       "      <th>2023-07-30</th>\n",
       "      <td>51500.000000</td>\n",
       "      <td>52229.540583</td>\n",
       "    </tr>\n",
       "    <tr>\n",
       "      <th>...</th>\n",
       "      <td>...</td>\n",
       "      <td>...</td>\n",
       "    </tr>\n",
       "    <tr>\n",
       "      <th>2024-08-25</th>\n",
       "      <td>60000.000000</td>\n",
       "      <td>50121.825160</td>\n",
       "    </tr>\n",
       "    <tr>\n",
       "      <th>2024-09-01</th>\n",
       "      <td>59000.000000</td>\n",
       "      <td>50211.601330</td>\n",
       "    </tr>\n",
       "    <tr>\n",
       "      <th>2024-09-08</th>\n",
       "      <td>60000.000000</td>\n",
       "      <td>50872.196748</td>\n",
       "    </tr>\n",
       "    <tr>\n",
       "      <th>2024-09-15</th>\n",
       "      <td>60000.000000</td>\n",
       "      <td>49949.749490</td>\n",
       "    </tr>\n",
       "    <tr>\n",
       "      <th>2024-09-22</th>\n",
       "      <td>60000.000000</td>\n",
       "      <td>49905.916436</td>\n",
       "    </tr>\n",
       "  </tbody>\n",
       "</table>\n",
       "<p>65 rows × 2 columns</p>\n",
       "</div>"
      ],
      "text/plain": [
       "                 size_80  price_predict\n",
       "2023-07-02  53000.000000   52313.853381\n",
       "2023-07-09  49000.000000   51950.345514\n",
       "2023-07-16  49000.000000   52015.632170\n",
       "2023-07-23  52714.285714   52076.112307\n",
       "2023-07-30  51500.000000   52229.540583\n",
       "...                  ...            ...\n",
       "2024-08-25  60000.000000   50121.825160\n",
       "2024-09-01  59000.000000   50211.601330\n",
       "2024-09-08  60000.000000   50872.196748\n",
       "2024-09-15  60000.000000   49949.749490\n",
       "2024-09-22  60000.000000   49905.916436\n",
       "\n",
       "[65 rows x 2 columns]"
      ]
     },
     "execution_count": 12,
     "metadata": {},
     "output_type": "execute_result"
    }
   ],
   "source": [
    "sarima_pred_test_viz = sar_visual.predict(start=\"2023-07-02\", end=\"2024-09-22\", dynamic=True)\n",
    "sarima_pred_test_viz = pd.DataFrame(sarima_pred_test_viz)\n",
    "sarima_pred_test_viz.columns = ['price_predict']\n",
    "\n",
    "# Concate dengan actual test set\n",
    "act_vs_pred_sar = pd.concat([test, sarima_pred_test_viz],axis=1)\n",
    "act_vs_pred_sar"
   ]
  },
  {
   "cell_type": "markdown",
   "metadata": {},
   "source": [
    "Proses prediksi menghasilkan prediksi yang cukup melenceng dari aktual"
   ]
  },
  {
   "cell_type": "code",
   "execution_count": 29,
   "metadata": {},
   "outputs": [
    {
     "name": "stdout",
     "output_type": "stream",
     "text": [
      "\t ARIMA MODEL : In- Sample Forecasting \n",
      "\n",
      "predicted = 52313.853381, expected = 57000.000000\n",
      "predicted = 52313.853381, expected = 54000.000000\n",
      "predicted = 52313.853381, expected = 56125.000000\n",
      "predicted = 52313.853381, expected = 56400.000000\n",
      "predicted = 52313.853381, expected = 56857.142857\n",
      "predicted = 52313.853381, expected = 56000.000000\n",
      "predicted = 52313.853381, expected = 55875.000000\n",
      "predicted = 52313.853381, expected = 55750.000000\n",
      "predicted = 52313.853381, expected = 55984.375000\n",
      "predicted = 52313.853381, expected = 57000.000000\n",
      "predicted = 52313.853381, expected = 57666.666667\n",
      "predicted = 52313.853381, expected = 59000.000000\n",
      "predicted = 52313.853381, expected = 58000.000000\n",
      "predicted = 52313.853381, expected = 56142.857143\n",
      "predicted = 52313.853381, expected = 56000.000000\n",
      "predicted = 52313.853381, expected = 56000.000000\n",
      "predicted = 52313.853381, expected = 56333.333333\n",
      "predicted = 52313.853381, expected = 56666.666667\n",
      "predicted = 52313.853381, expected = 57333.333333\n",
      "predicted = 52313.853381, expected = 57000.000000\n",
      "predicted = 52313.853381, expected = 57653.846154\n",
      "predicted = 52313.853381, expected = 58000.000000\n",
      "predicted = 52313.853381, expected = 58000.000000\n",
      "predicted = 52313.853381, expected = 58000.000000\n",
      "predicted = 52313.853381, expected = 60000.000000\n",
      "predicted = 52313.853381, expected = 60000.000000\n",
      "predicted = 52313.853381, expected = 59000.000000\n",
      "predicted = 52313.853381, expected = 60000.000000\n",
      "predicted = 52313.853381, expected = 60000.000000\n",
      "predicted = 52313.853381, expected = 60000.000000\n"
     ]
    }
   ],
   "source": [
    "size = int(len(df_80) - 30)\n",
    "train_v2, test_v2 = df_80['size_80'][0:size], df_80['size_80'][size:len(df_80)]\n",
    "print('\\t ARIMA MODEL : In- Sample Forecasting \\n')\n",
    "\n",
    "history = [x for x in train]\n",
    "predictions = []\n",
    "\n",
    "for t in range(len(test_v2)):\n",
    "    \n",
    "    \n",
    "    output = sar_visual.forecast()\n",
    "    yhat = output[0]\n",
    "    predictions.append(float(yhat))\n",
    "    \n",
    "    obs = test_v2[t]\n",
    "    history.append(obs)\n",
    "    \n",
    "    print('predicted = %f, expected = %f' % (yhat, obs))"
   ]
  },
  {
   "cell_type": "code",
   "execution_count": 19,
   "metadata": {},
   "outputs": [
    {
     "name": "stdout",
     "output_type": "stream",
     "text": [
      "MAE test  :  3837.853090371602\n",
      "RMSE test :  4694.754806019224\n"
     ]
    }
   ],
   "source": [
    "# Check the MAE\n",
    "\n",
    "print('MAE test  : ', mean_absolute_error(test, sarima_pred_test_viz))\n",
    "print('RMSE test : ', np.sqrt(mean_squared_error(test, sarima_pred_test_viz)))\n"
   ]
  },
  {
   "cell_type": "code",
   "execution_count": 30,
   "metadata": {},
   "outputs": [
    {
     "name": "stdout",
     "output_type": "stream",
     "text": [
      "MAPE test :  8.784001336202687\n"
     ]
    }
   ],
   "source": [
    "# Menghitung MAPE\n",
    "mape = np.mean(np.abs((test_v2 - predictions) / test_v2)) * 100\n",
    "\n",
    "print('MAPE test : ', mape)"
   ]
  },
  {
   "cell_type": "markdown",
   "metadata": {},
   "source": [
    "Hasil test error menunjukkan MAPE sebesar 8.7% sedangkan MAE 3837.85 dengan RMSE 4694.75"
   ]
  },
  {
   "cell_type": "markdown",
   "metadata": {},
   "source": [
    "### 5.2.2 - Find Best Model Function"
   ]
  },
  {
   "cell_type": "code",
   "execution_count": 14,
   "metadata": {},
   "outputs": [
    {
     "data": {
      "text/html": [
       "<div>\n",
       "<style scoped>\n",
       "    .dataframe tbody tr th:only-of-type {\n",
       "        vertical-align: middle;\n",
       "    }\n",
       "\n",
       "    .dataframe tbody tr th {\n",
       "        vertical-align: top;\n",
       "    }\n",
       "\n",
       "    .dataframe thead th {\n",
       "        text-align: right;\n",
       "    }\n",
       "</style>\n",
       "<table border=\"1\" class=\"dataframe\">\n",
       "  <thead>\n",
       "    <tr style=\"text-align: right;\">\n",
       "      <th></th>\n",
       "      <th>size_80</th>\n",
       "      <th>price_predict</th>\n",
       "      <th>price_predict_find</th>\n",
       "    </tr>\n",
       "  </thead>\n",
       "  <tbody>\n",
       "    <tr>\n",
       "      <th>2023-07-02</th>\n",
       "      <td>53000.000000</td>\n",
       "      <td>52313.853381</td>\n",
       "      <td>-2.346336e+06</td>\n",
       "    </tr>\n",
       "    <tr>\n",
       "      <th>2023-07-09</th>\n",
       "      <td>49000.000000</td>\n",
       "      <td>51950.345514</td>\n",
       "      <td>-2.077545e+07</td>\n",
       "    </tr>\n",
       "    <tr>\n",
       "      <th>2023-07-16</th>\n",
       "      <td>49000.000000</td>\n",
       "      <td>52015.632170</td>\n",
       "      <td>-1.022092e+08</td>\n",
       "    </tr>\n",
       "    <tr>\n",
       "      <th>2023-07-23</th>\n",
       "      <td>52714.285714</td>\n",
       "      <td>52076.112307</td>\n",
       "      <td>-3.687924e+08</td>\n",
       "    </tr>\n",
       "    <tr>\n",
       "      <th>2023-07-30</th>\n",
       "      <td>51500.000000</td>\n",
       "      <td>52229.540583</td>\n",
       "      <td>-1.090492e+09</td>\n",
       "    </tr>\n",
       "    <tr>\n",
       "      <th>...</th>\n",
       "      <td>...</td>\n",
       "      <td>...</td>\n",
       "      <td>...</td>\n",
       "    </tr>\n",
       "    <tr>\n",
       "      <th>2024-08-25</th>\n",
       "      <td>60000.000000</td>\n",
       "      <td>50121.825160</td>\n",
       "      <td>-1.655565e+16</td>\n",
       "    </tr>\n",
       "    <tr>\n",
       "      <th>2024-09-01</th>\n",
       "      <td>59000.000000</td>\n",
       "      <td>50211.601330</td>\n",
       "      <td>-1.878374e+16</td>\n",
       "    </tr>\n",
       "    <tr>\n",
       "      <th>2024-09-08</th>\n",
       "      <td>60000.000000</td>\n",
       "      <td>50872.196748</td>\n",
       "      <td>-2.127110e+16</td>\n",
       "    </tr>\n",
       "    <tr>\n",
       "      <th>2024-09-15</th>\n",
       "      <td>60000.000000</td>\n",
       "      <td>49949.749490</td>\n",
       "      <td>-2.404332e+16</td>\n",
       "    </tr>\n",
       "    <tr>\n",
       "      <th>2024-09-22</th>\n",
       "      <td>60000.000000</td>\n",
       "      <td>49905.916436</td>\n",
       "      <td>-2.712809e+16</td>\n",
       "    </tr>\n",
       "  </tbody>\n",
       "</table>\n",
       "<p>65 rows × 3 columns</p>\n",
       "</div>"
      ],
      "text/plain": [
       "                 size_80  price_predict  price_predict_find\n",
       "2023-07-02  53000.000000   52313.853381       -2.346336e+06\n",
       "2023-07-09  49000.000000   51950.345514       -2.077545e+07\n",
       "2023-07-16  49000.000000   52015.632170       -1.022092e+08\n",
       "2023-07-23  52714.285714   52076.112307       -3.687924e+08\n",
       "2023-07-30  51500.000000   52229.540583       -1.090492e+09\n",
       "...                  ...            ...                 ...\n",
       "2024-08-25  60000.000000   50121.825160       -1.655565e+16\n",
       "2024-09-01  59000.000000   50211.601330       -1.878374e+16\n",
       "2024-09-08  60000.000000   50872.196748       -2.127110e+16\n",
       "2024-09-15  60000.000000   49949.749490       -2.404332e+16\n",
       "2024-09-22  60000.000000   49905.916436       -2.712809e+16\n",
       "\n",
       "[65 rows x 3 columns]"
      ]
     },
     "execution_count": 14,
     "metadata": {},
     "output_type": "execute_result"
    }
   ],
   "source": [
    "sarima_pred_test_find = sar_find.predict(start=\"2023-07-02\", end=\"2024-09-22\", dynamic=True)\n",
    "sarima_pred_test_find = pd.DataFrame(sarima_pred_test_find)\n",
    "sarima_pred_test_find.columns = ['price_predict_find']\n",
    "\n",
    "# Concate dengan actual test set\n",
    "act_vs_pred_sar['price_predict_find'] = sarima_pred_test_find['price_predict_find']\n",
    "act_vs_pred_sar"
   ]
  },
  {
   "cell_type": "markdown",
   "metadata": {},
   "source": [
    "Hasil prediksi menunjukkan angka minus yang berarti sangat tidak akurat"
   ]
  },
  {
   "cell_type": "code",
   "execution_count": 31,
   "metadata": {},
   "outputs": [
    {
     "name": "stdout",
     "output_type": "stream",
     "text": [
      "\t ARIMA MODEL : In- Sample Forecasting \n",
      "\n",
      "predicted = -2346336.290161, expected = 57000.000000\n",
      "predicted = -2346336.290161, expected = 54000.000000\n",
      "predicted = -2346336.290161, expected = 56125.000000\n",
      "predicted = -2346336.290161, expected = 56400.000000\n",
      "predicted = -2346336.290161, expected = 56857.142857\n",
      "predicted = -2346336.290161, expected = 56000.000000\n",
      "predicted = -2346336.290161, expected = 55875.000000\n",
      "predicted = -2346336.290161, expected = 55750.000000\n",
      "predicted = -2346336.290161, expected = 55984.375000\n",
      "predicted = -2346336.290161, expected = 57000.000000\n",
      "predicted = -2346336.290161, expected = 57666.666667\n",
      "predicted = -2346336.290161, expected = 59000.000000\n",
      "predicted = -2346336.290161, expected = 58000.000000\n",
      "predicted = -2346336.290161, expected = 56142.857143\n",
      "predicted = -2346336.290161, expected = 56000.000000\n",
      "predicted = -2346336.290161, expected = 56000.000000\n",
      "predicted = -2346336.290161, expected = 56333.333333\n",
      "predicted = -2346336.290161, expected = 56666.666667\n",
      "predicted = -2346336.290161, expected = 57333.333333\n",
      "predicted = -2346336.290161, expected = 57000.000000\n",
      "predicted = -2346336.290161, expected = 57653.846154\n",
      "predicted = -2346336.290161, expected = 58000.000000\n",
      "predicted = -2346336.290161, expected = 58000.000000\n",
      "predicted = -2346336.290161, expected = 58000.000000\n",
      "predicted = -2346336.290161, expected = 60000.000000\n",
      "predicted = -2346336.290161, expected = 60000.000000\n",
      "predicted = -2346336.290161, expected = 59000.000000\n",
      "predicted = -2346336.290161, expected = 60000.000000\n",
      "predicted = -2346336.290161, expected = 60000.000000\n",
      "predicted = -2346336.290161, expected = 60000.000000\n"
     ]
    }
   ],
   "source": [
    "size = int(len(df_80) - 30)\n",
    "train_v2, test_v2 = df_80['size_80'][0:size], df_80['size_80'][size:len(df_80)]\n",
    "print('\\t ARIMA MODEL : In- Sample Forecasting \\n')\n",
    "\n",
    "history = [x for x in train]\n",
    "predictions = []\n",
    "\n",
    "for t in range(len(test_v2)):\n",
    "    \n",
    "    \n",
    "    output = sar_find.forecast()\n",
    "    yhat = output[0]\n",
    "    predictions.append(float(yhat))\n",
    "    \n",
    "    obs = test_v2[t]\n",
    "    history.append(obs)\n",
    "    \n",
    "    print('predicted = %f, expected = %f' % (yhat, obs))"
   ]
  },
  {
   "cell_type": "code",
   "execution_count": 20,
   "metadata": {},
   "outputs": [
    {
     "name": "stdout",
     "output_type": "stream",
     "text": [
      "MAE test  :  3319223348283080.5\n",
      "RMSE test :  7101127667297438.0\n"
     ]
    }
   ],
   "source": [
    "# Check the MAE\n",
    "\n",
    "print('MAE test  : ', mean_absolute_error(test, sarima_pred_test_find))\n",
    "print('RMSE test : ', np.sqrt(mean_squared_error(test, sarima_pred_test_find)))"
   ]
  },
  {
   "cell_type": "code",
   "execution_count": 32,
   "metadata": {},
   "outputs": [
    {
     "name": "stdout",
     "output_type": "stream",
     "text": [
      "MAPE test :  4191.142098647447\n"
     ]
    }
   ],
   "source": [
    "# Menghitung MAPE\n",
    "mape = np.mean(np.abs((test_v2 - predictions) / test_v2)) * 100\n",
    "\n",
    "print('MAPE test : ', mape)"
   ]
  },
  {
   "cell_type": "markdown",
   "metadata": {},
   "source": [
    "Hasil error juga menunjukkan angka yang fantastis besarnya. Ini mengartikan model sangat tidak bisa memprediksi data"
   ]
  },
  {
   "cell_type": "markdown",
   "metadata": {},
   "source": [
    "# 6 - Conclusion"
   ]
  },
  {
   "cell_type": "markdown",
   "metadata": {},
   "source": [
    "Dari hasil evaluasi yang telah dilakukan, model ARIMA dengan PDQ dari Plot Visual lebih menunjukkan prediksi yang lebih akurat daripada PDQ yang didapat dari find best model maupun model SARIMA.\n",
    "\n",
    "Hal ini bisa dilihat dari angka error yang ditunjukkan oleh RMSE, MAE, dan MAPE yang jelas perbedaannya. RMSE, MAE, dan MAPE ARIMA lebih rendah daripada SARIMA sehingga model yang akan dipakai untuk memprediksi data harga udang size 80 yaitu Model ARIMA dengan PDQ 3,0,8"
   ]
  },
  {
   "cell_type": "markdown",
   "metadata": {},
   "source": [
    "# 7 - Model Saving"
   ]
  },
  {
   "cell_type": "code",
   "execution_count": 55,
   "metadata": {},
   "outputs": [],
   "source": [
    "with open('model80.pkl','wb') as model80_file:\n",
    "    pickle.dump(result_model_arima_visual, model80_file)"
   ]
  },
  {
   "cell_type": "markdown",
   "metadata": {},
   "source": [
    "Save Model ARIMA PDQ Visual Plot ke dalam bentuk file pickle"
   ]
  }
 ],
 "metadata": {
  "kernelspec": {
   "display_name": "base",
   "language": "python",
   "name": "python3"
  },
  "language_info": {
   "codemirror_mode": {
    "name": "ipython",
    "version": 3
   },
   "file_extension": ".py",
   "mimetype": "text/x-python",
   "name": "python",
   "nbconvert_exporter": "python",
   "pygments_lexer": "ipython3",
   "version": "3.9.19"
  }
 },
 "nbformat": 4,
 "nbformat_minor": 2
}
